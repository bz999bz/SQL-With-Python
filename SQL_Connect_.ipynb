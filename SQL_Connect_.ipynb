{
  "nbformat": 4,
  "nbformat_minor": 0,
  "metadata": {
    "colab": {
      "provenance": []
    },
    "kernelspec": {
      "name": "python3",
      "display_name": "Python 3"
    },
    "language_info": {
      "name": "python"
    }
  },
  "cells": [
    {
      "cell_type": "code",
      "source": [
        "import sqlite3"
      ],
      "metadata": {
        "id": "20wP0HaMrDy3"
      },
      "execution_count": null,
      "outputs": []
    },
    {
      "cell_type": "code",
      "source": [
        "connection = sqlite3.connect(\"Employee_Info.db\")"
      ],
      "metadata": {
        "id": "doIHZag6rGvf"
      },
      "execution_count": null,
      "outputs": []
    },
    {
      "cell_type": "code",
      "source": [
        "#Create table:\n",
        "cursor = connection.cursor() #cursor object\n",
        "#The syntax (e.g, create table, insert) similar to if you write sql language. \n",
        "cursor.execute(\"CREATE TABLE Employee_Info (name TEXT, role TEXT, ID INTEGER)\") #Use the execute function in cursor object"
      ],
      "metadata": {
        "id": "CnrM8PGhsnKa"
      },
      "execution_count": null,
      "outputs": []
    },
    {
      "cell_type": "code",
      "source": [
        "#Adding data\n",
        "cursor.execute(\"INSERT INTO Employee_Info VALUES('Sam', 'Software Engineer', 1)\")\n",
        "cursor.execute(\"INSERT INTO Employee_Info VALUES('Kim', 'Manager', 2)\")\n",
        "cursor.execute(\"INSERT INTO Employee_Info VALUES('Alex', 'QC Engineer', 3)\")\n",
        "cursor.execute(\"INSERT INTO Employee_Info VALUES('Kim', 'Cybersecurity Engineer', 4)\")\n",
        "cursor.execute(\"INSERT INTO Employee_Info VALUES('John', 'Software Engineer', 5)\")\n",
        "cursor.execute(\"INSERT INTO Employee_Info VALUES('Robert', 'Data Engineer', 6)\")\n",
        "cursor.execute(\"INSERT INTO Employee_Info VALUES('Erick', 'Business Analyst', 7)\")\n"
      ],
      "metadata": {
        "colab": {
          "base_uri": "https://localhost:8080/"
        },
        "id": "erLDHEM0tw8U",
        "outputId": "c4c177d2-9f9f-4fc5-d649-81802b932507"
      },
      "execution_count": null,
      "outputs": [
        {
          "output_type": "execute_result",
          "data": {
            "text/plain": [
              "<sqlite3.Cursor at 0x7fbd3c292d50>"
            ]
          },
          "metadata": {},
          "execution_count": 38
        }
      ]
    },
    {
      "cell_type": "code",
      "source": [
        "print(connection.total_changes)"
      ],
      "metadata": {
        "colab": {
          "base_uri": "https://localhost:8080/"
        },
        "id": "VIrNOHYmvOzr",
        "outputId": "b18c9d8d-bb55-4b04-fa82-26b94556a30e"
      },
      "execution_count": null,
      "outputs": [
        {
          "output_type": "stream",
          "name": "stdout",
          "text": [
            "12\n"
          ]
        }
      ]
    },
    {
      "cell_type": "code",
      "source": [
        "#Reading data:\n",
        "rows = cursor.execute(\"SELECT name, role, ID FROM Employee_Info\").fetchall()\n",
        "\n",
        "#This will return a tuple\n",
        "print(rows)\n",
        "\n",
        "for i in rows:\n",
        "  print(i)"
      ],
      "metadata": {
        "id": "5kf47TBQv9g6"
      },
      "execution_count": null,
      "outputs": []
    },
    {
      "cell_type": "code",
      "source": [
        "row_conditioned = cursor.execute(\"SELECT name, role, ID FROM Employee_Info WHERE ID = '7'\").fetchall()\n",
        "print(row_conditioned)"
      ],
      "metadata": {
        "id": "nDLRAmVjwuAJ"
      },
      "execution_count": null,
      "outputs": []
    },
    {
      "cell_type": "code",
      "source": [
        "#Parameter\n",
        "user_input = input(\"Enter the name of the \bemployee\")\n",
        "row_conditioned_new = cursor.execute(\"SELECT name, role, ID FROM Employee_Info WHERE name = ?\", (user_input,),).fetchall() \n",
        "print(row_conditioned_new)"
      ],
      "metadata": {
        "id": "6gRj3vDbxcZD"
      },
      "execution_count": null,
      "outputs": []
    },
    {
      "cell_type": "code",
      "source": [
        "user_input_1 = input(\"What ID do you want to look for?\")\n",
        "user_condition = cursor.execute(\"SELECT name, role, ID FROM fish WHERE tank_number = ?\",(user_input_1),).fetchall()\n",
        "print(user_condition)"
      ],
      "metadata": {
        "colab": {
          "base_uri": "https://localhost:8080/"
        },
        "id": "p7WOkFhjyA0T",
        "outputId": "c32a9d6f-5d36-46c5-a646-200342d49669"
      },
      "execution_count": null,
      "outputs": [
        {
          "output_type": "stream",
          "name": "stdout",
          "text": [
            "What tank do you want to look for?7\n",
            "[('Jamie', 'cuttlefish', 7), ('Jamie', 'cuttlefish', 7), ('Jamie', 'cuttlefish', 7), ('Jamie', 'cuttlefish', 7), ('Jamie', 'cuttlefish', 7), ('Jamie', 'cuttlefish', 7)]\n"
          ]
        }
      ]
    },
    {
      "cell_type": "code",
      "source": [
        "list_input = []\n",
        "user_input_1 = input(\"What ID do you want to look for?\")\n",
        "list_input.append(user_input_1)\n",
        "user_input_2 = input(\"Name?\")\n",
        "list_input.append(user_input_2)\n",
        "\n",
        "\n",
        "user_condition = cursor.execute(\"SELECT name, role, ID FROM Employee_Info WHERE ID = ? and name =?\",(list_input),).fetchall()\n",
        "print(user_condition)"
      ],
      "metadata": {
        "id": "or1yTA_9yetq"
      },
      "execution_count": null,
      "outputs": []
    },
    {
      "cell_type": "code",
      "source": [
        "#Update rows and column statements\n",
        "\n",
        "ID = 1\n",
        "employee_name = \"Sam\"\n",
        "cursor.execute(\"UPDATE Employee_Info SET ID = ? WHERE name = ?\", (new_tank_number, moved_fish_name))\n",
        "\n",
        "rows = cursor.execute(\"SELECT name, ID FROM Employee_Info\").fetchall()\n",
        "print(rows)\n"
      ],
      "metadata": {
        "id": "F9cMOwSzZPtP"
      },
      "execution_count": null,
      "outputs": []
    }
  ]
}